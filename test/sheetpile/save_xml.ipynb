{
 "cells": [
  {
   "cell_type": "code",
   "execution_count": 2,
   "metadata": {},
   "outputs": [],
   "source": [
    "import elementpath\n",
    "from xml.etree import ElementTree as ET\n",
    "import sys"
   ]
  },
  {
   "cell_type": "code",
   "execution_count": 3,
   "metadata": {},
   "outputs": [],
   "source": [
    "output_path = './example.xml'"
   ]
  },
  {
   "cell_type": "code",
   "execution_count": 16,
   "metadata": {},
   "outputs": [],
   "source": [
    "# if the output file exists, open it and parse it, else create a root element\n",
    "try:\n",
    "    tree = ET.parse(output_path)\n",
    "    root = tree.getroot()\n",
    "except FileNotFoundError:\n",
    "    root = ET.Element('File', description='設計圖說')\n",
    "    tree = ET.ElementTree(root)\n",
    "    tree.write(output_path, encoding='utf-8', xml_declaration=True)\n"
   ]
  },
  {
   "cell_type": "code",
   "execution_count": 18,
   "metadata": {},
   "outputs": [],
   "source": [
    "# find the Drawing element with description='平面圖', if not found, create one\n",
    "plans = root.find(\".//Drawing[@description='平面圖']\")\n",
    "if plans is None:\n",
    "    plans = ET.SubElement(root, \"Drawing\", description='平面圖')\n",
    "else:\n",
    "    # remove all the children of the Drawing element\n",
    "    for child in plans:\n",
    "        plans.remove(child)\n",
    "\n",
    "data_dic = {'SP-III SHEET PILE (L=16m)': 140,\n",
    "            'SP-III SHEET PILE (L=9m)': 80,\n",
    "            'SP-III SHEET PILE (L=13m)': 80}\n",
    "\n",
    "# 將data_dic的資料寫入plan的子元素，內容為key, quantity=value\n",
    "for key, value in data_dic.items():\n",
    "    pile = ET.SubElement(plans, 'WorkItemType', description=key, quantity=str(value))\n",
    "\n",
    "# write the tree to the output file\n",
    "tree.write(output_path, encoding='utf-8', xml_declaration=True)"
   ]
  },
  {
   "cell_type": "code",
   "execution_count": null,
   "metadata": {},
   "outputs": [],
   "source": [
    "# print out the xml tree\n",
    "def print_tree(root):\n",
    "    for elem in root.iter():\n",
    "        print(elem.tag, elem.attrib)\n",
    "    print()\n",
    "\n",
    "# add a new element to the tree\n",
    "def add_element(root, tag, attrib):\n",
    "    new_elem = ET.SubElement(root, tag)\n",
    "    new_elem.attrib = attrib\n",
    "    return root"
   ]
  }
 ],
 "metadata": {
  "kernelspec": {
   "display_name": "azure",
   "language": "python",
   "name": "python3"
  },
  "language_info": {
   "codemirror_mode": {
    "name": "ipython",
    "version": 3
   },
   "file_extension": ".py",
   "mimetype": "text/x-python",
   "name": "python",
   "nbconvert_exporter": "python",
   "pygments_lexer": "ipython3",
   "version": "3.8.19"
  }
 },
 "nbformat": 4,
 "nbformat_minor": 2
}
