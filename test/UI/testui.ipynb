{
 "cells": [
  {
   "cell_type": "code",
   "execution_count": 3,
   "metadata": {},
   "outputs": [],
   "source": [
    "import tkinter as tk"
   ]
  },
  {
   "cell_type": "code",
   "execution_count": 10,
   "metadata": {},
   "outputs": [],
   "source": [
    "class App(tk.Tk):\n",
    "    def __init__(self, data):\n",
    "        super().__init__()\n",
    "        self.title('Dictionary Viewer')\n",
    "        for i, key in enumerate(data):\n",
    "            tk.Label(self, text=key, font=('Arial', 14, 'bold')).grid(row=i*2, column=0, sticky='w')\n",
    "            for j, (subkey, value) in enumerate(data[key].items()):\n",
    "                tk.Label(self, text=f'{subkey}: {value}').grid(row=i*2+j+1, column=1, sticky='w')\n",
    "\n",
    "# Example usage:\n",
    "data = {\n",
    "    'Car A': {\n",
    "        'Tires': '4',\n",
    "        'Window': 'Gray',\n",
    "    },\n",
    "    'Car B': {\n",
    "        'Tires': '4',\n",
    "        'Window': 'Blue',\n",
    "    },\n",
    "}\n",
    "\n",
    "app = App(data)\n",
    "app.mainloop()"
   ]
  }
 ],
 "metadata": {
  "kernelspec": {
   "display_name": "sinotech",
   "language": "python",
   "name": "python3"
  },
  "language_info": {
   "codemirror_mode": {
    "name": "ipython",
    "version": 3
   },
   "file_extension": ".py",
   "mimetype": "text/x-python",
   "name": "python",
   "nbconvert_exporter": "python",
   "pygments_lexer": "ipython3",
   "version": "3.8.18"
  }
 },
 "nbformat": 4,
 "nbformat_minor": 2
}
