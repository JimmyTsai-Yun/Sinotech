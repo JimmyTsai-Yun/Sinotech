{
 "cells": [
  {
   "cell_type": "code",
   "execution_count": 1,
   "metadata": {},
   "outputs": [],
   "source": [
    "import pandas as pd\n",
    "import csv\n",
    "import re\n",
    "import numpy as np"
   ]
  },
  {
   "cell_type": "code",
   "execution_count": 127,
   "metadata": {},
   "outputs": [],
   "source": [
    "csv_path = 'lg09_diastru.csv'\n",
    "\n",
    "# 定義自定義解析器\n",
    "def custom_csv_parser(file_path, encoding='ISO-8859-1'):\n",
    "    rows = []\n",
    "    with open(file_path, encoding=encoding) as file:\n",
    "        reader = csv.reader(file)\n",
    "        for row in reader:\n",
    "            if len(row) > 8:\n",
    "                row[7] = ', '.join(row[7:])\n",
    "                row = row[:8]\n",
    "            row[-1] = row[-1].rstrip(', ')\n",
    "            rows.append(row)\n",
    "    return rows\n",
    "\n",
    "# 使用自定義解析器讀取文件\n",
    "rows = custom_csv_parser(csv_path)\n",
    "\n",
    "# 定義標題列\n",
    "columns = [\"FileName\", \"EntityName\", \"ObjectType\", \"RotationAngle\", \"CentreCoor\", \"Height\", \"Width\", \"Text\"]\n",
    "\n",
    "# 將結果轉換為 DataFrame\n",
    "df = pd.DataFrame(rows[1:], columns=columns)"
   ]
  },
  {
   "cell_type": "code",
   "execution_count": null,
   "metadata": {},
   "outputs": [],
   "source": [
    "rows, columns = df.shape\n",
    "for i in range(rows):\n",
    "    print(df.iloc[i]['Text'])"
   ]
  },
  {
   "cell_type": "code",
   "execution_count": 128,
   "metadata": {},
   "outputs": [],
   "source": [
    "fy_pattern = r'^fy\\s+(\\d+)\\s+kgf/cm'\n",
    "mm_pattern = r'^(\\d+)\\s+mm'\n",
    "fc_pattern = r'^f\\'c ¡Ù (\\d+) kgf/cm'\n",
    "protection_pattern2 = r'DIAPHRAGM\\s+WALLS\\s+\\(BOTH\\s+FACES\\)'\n",
    "protection_pattern1 = r'CONCRETE\\s+CAST\\s+AGAINST\\s+AND\\s+PERMANENTLY\\s+EXPOSED\\s+TO\\s+WATER,\\s+SOIL,\\s+BLINDING'\n",
    "rebar_strength_pattern2 = r'REINFORCEMENT\\s+OF\\s+10\\s+mm\\s+OR\\s+SMALLER\\s+IN\\s+DIAMETER\\s+SHALL\\s+CONFORM\\s+TO\\s+CNS\\s+560'\n",
    "rebar_strength_pattern1 = r'REINFORCEMENT\\s+OF\\s+13\\s+mm\\s+OR\\s+LARGER\\s+IN\\s+DIAMETER\\s+SHALL\\s+CONFORM\\s+TO\\s+CNS\\s+560'\n",
    "concrete_strength_pattern = r'^DIAPHRAGM\\s+WALLS$'\n",
    "\n",
    "# 創建一個新的列來存儲提取的數字\n",
    "df['fy_number'] = df['Text'].str.extract(fy_pattern)\n",
    "df['mm_number'] = df['Text'].str.extract(mm_pattern)\n",
    "df['fc_number'] = df['Text'].str.extract(fc_pattern)\n",
    "df['rebar_protection2'] = df['Text'].str.contains(protection_pattern2, regex=True)\n",
    "df['rebar_protection1'] = df['Text'].str.contains(protection_pattern1, regex=True)\n",
    "df['rebar_strength1'] = df['Text'].str.contains(rebar_strength_pattern1, regex=True)\n",
    "df['rebar_strength2'] = df['Text'].str.contains(rebar_strength_pattern2, regex=True)\n",
    "df['concrete_strength'] = df['Text'].str.contains(concrete_strength_pattern, regex=True)\n",
    "\n",
    "# 如果您想將提取的數字轉換為整數\n",
    "df['fy_number'] = df['fy_number'].astype(float)\n",
    "df['mm_number'] = df['mm_number'].astype(float)\n",
    "df['fc_number'] = df['fc_number'].astype(float)"
   ]
  },
  {
   "cell_type": "code",
   "execution_count": 130,
   "metadata": {},
   "outputs": [
    {
     "name": "stdout",
     "output_type": "stream",
     "text": [
      "The protection1 :75.0\n",
      "The protection2 :75.0\n",
      "The rebar_strength1 :4200.0\n",
      "The rebar_strength2 :2800.0\n",
      "The concrete_strength :[350.0, 245.0]\n"
     ]
    }
   ],
   "source": [
    "def parse_coordinate(coord_str):\n",
    "    # 使用正則表達式提取坐標值\n",
    "    match = re.match(r'\\(([\\d.]+)\\s+([\\d.]+)\\s+([\\d.]+)\\)', coord_str)\n",
    "    if match:\n",
    "        return [float(match.group(1)), float(match.group(2)), float(match.group(3))]\n",
    "    else:\n",
    "        raise ValueError(f\"無法解析坐標: {coord_str}\")\n",
    "    \n",
    "def find_nearest_two(target_column: str, candidate_columns: str, df: pd.DataFrame):\n",
    "\n",
    "    target_rows = df[df[target_column]].iloc[0]\n",
    "    candidate_rows = df[df[candidate_columns].notna()]\n",
    "\n",
    "    target_coords = np.array(parse_coordinate(target_rows['CentreCoor']))\n",
    "    candidate_coords = np.array([parse_coordinate(coord) for coord in candidate_rows['CentreCoor']])\n",
    "\n",
    "    # 計算 x 坐標差異和總距離\n",
    "    x_diff = candidate_coords[:, 0] - target_coords[0]\n",
    "    distances = np.sqrt(np.sum((candidate_coords[:, :2] - target_coords[:2])**2, axis=1))\n",
    "\n",
    "    # 只考慮 x 坐標大於的點\n",
    "    valid_indices = x_diff > 0\n",
    "    valid_distances = distances[valid_indices]\n",
    "    valid_candidate_rows = candidate_rows[valid_indices]\n",
    "\n",
    "    # 找出最近的兩個點\n",
    "    nearest_indices = np.argsort(valid_distances)[:2]\n",
    "\n",
    "    result = []\n",
    "    for idx in nearest_indices:\n",
    "        nearest_candidate_row = valid_candidate_rows.iloc[idx]\n",
    "        result.append(nearest_candidate_row[candidate_columns])\n",
    "\n",
    "    return result\n",
    "\n",
    "# 找到 rebar_protection1 最近的兩個 mm_number\n",
    "protection1 = find_nearest_two('rebar_protection1', 'mm_number', df)\n",
    "print(f'The protection1 :{protection1[0]}')\n",
    "\n",
    "# 找到 rebar_protection2 最近的兩個 mm_number\n",
    "protection2 = find_nearest_two('rebar_protection2', 'mm_number', df)\n",
    "print(f'The protection2 :{protection2[0]}')\n",
    "\n",
    "# 找到 rebar_strength1 最近的兩個 fy_number\n",
    "rebar_strength1 = find_nearest_two('rebar_strength1', 'fy_number', df)\n",
    "print(f'The rebar_strength1 :{rebar_strength1[0]}')\n",
    "\n",
    "# 找到 rebar_strength2 最近的兩個 fy_number\n",
    "rebar_strength2 = find_nearest_two('rebar_strength2', 'fy_number', df)\n",
    "print(f'The rebar_strength2 :{rebar_strength2[0]}')\n",
    "\n",
    "# 找到 concrete_strength 最近的兩個 fc_number\n",
    "concrete_strength = find_nearest_two('concrete_strength', 'fc_number', df)\n",
    "print(f'The concrete_strength :{concrete_strength}')\n"
   ]
  }
 ],
 "metadata": {
  "kernelspec": {
   "display_name": "sinotech",
   "language": "python",
   "name": "python3"
  },
  "language_info": {
   "codemirror_mode": {
    "name": "ipython",
    "version": 3
   },
   "file_extension": ".py",
   "mimetype": "text/x-python",
   "name": "python",
   "nbconvert_exporter": "python",
   "pygments_lexer": "ipython3",
   "version": "3.8.18"
  }
 },
 "nbformat": 4,
 "nbformat_minor": 2
}
